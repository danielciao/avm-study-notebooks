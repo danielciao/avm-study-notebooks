{
 "cells": [
  {
   "cell_type": "code",
   "execution_count": 1,
   "metadata": {},
   "outputs": [
    {
     "name": "stdout",
     "output_type": "stream",
     "text": [
      "pandas: 2.1.1\n",
      "numpy: 1.26.0\n",
      "matplotlib: 3.8.0\n",
      "seaborn: 0.13.0\n"
     ]
    }
   ],
   "source": [
    "import pandas as pd\n",
    "import numpy as np\n",
    "import matplotlib\n",
    "from matplotlib import pyplot as plt\n",
    "import seaborn as sns\n",
    "\n",
    "print(f'pandas: {pd.__version__}')\n",
    "print(f'numpy: {np.__version__}')\n",
    "print(f'matplotlib: {matplotlib.__version__}')\n",
    "print(f'seaborn: {sns.__version__}')\n",
    "\n",
    "pd.set_option('display.max_rows', 30)\n",
    "pd.set_option('display.max_columns', None)\n",
    "pd.set_option('display.float_format', str)"
   ]
  },
  {
   "attachments": {},
   "cell_type": "markdown",
   "metadata": {},
   "source": [
    "# Load Index of Multiple Deprivation (IMD) Data\n",
    "\n",
    "Index of Multiple Deprivation (IMD) is a measure of relative deprivation for small areas in England. It is used to identify areas of deprivation and target public services to meet local needs. The Index of Multiple Deprivation 2019 (IMD 2019) is the most up-to-date measure of relative deprivation for small areas in England. It available at lower layer super output area (LSOA) level and is based on a range of data sources, including the 2011 Census, the Index of Child Deprivation 2019 (ICD 2019) and the English Indices of Deprivation 2019 (EID 2019). The dataset can be downloaded from the [Office for National Statistics (ONS)](https://www.gov.uk/government/statistics/english-indices-of-deprivation-2019)."
   ]
  },
  {
   "cell_type": "code",
   "execution_count": 2,
   "metadata": {},
   "outputs": [
    {
     "data": {
      "text/html": [
       "<div>\n",
       "<style scoped>\n",
       "    .dataframe tbody tr th:only-of-type {\n",
       "        vertical-align: middle;\n",
       "    }\n",
       "\n",
       "    .dataframe tbody tr th {\n",
       "        vertical-align: top;\n",
       "    }\n",
       "\n",
       "    .dataframe thead th {\n",
       "        text-align: right;\n",
       "    }\n",
       "</style>\n",
       "<table border=\"1\" class=\"dataframe\">\n",
       "  <thead>\n",
       "    <tr style=\"text-align: right;\">\n",
       "      <th></th>\n",
       "      <th>IMD_LSOAName</th>\n",
       "      <th>IMD_IMD</th>\n",
       "      <th>IMD_IMDDecile</th>\n",
       "      <th>IMD_Inc</th>\n",
       "      <th>IMD_IncDecile</th>\n",
       "      <th>IMD_Emp</th>\n",
       "      <th>IMD_EmpDecile</th>\n",
       "      <th>IMD_Edu</th>\n",
       "      <th>IMD_EduDecile</th>\n",
       "      <th>IMD_Crm</th>\n",
       "      <th>IMD_CrmDecile</th>\n",
       "      <th>IMD_HouseBar</th>\n",
       "      <th>IMD_HouseBarDecile</th>\n",
       "      <th>IMD_Env</th>\n",
       "      <th>IMD_EnvDecile</th>\n",
       "    </tr>\n",
       "    <tr>\n",
       "      <th>LSOA</th>\n",
       "      <th></th>\n",
       "      <th></th>\n",
       "      <th></th>\n",
       "      <th></th>\n",
       "      <th></th>\n",
       "      <th></th>\n",
       "      <th></th>\n",
       "      <th></th>\n",
       "      <th></th>\n",
       "      <th></th>\n",
       "      <th></th>\n",
       "      <th></th>\n",
       "      <th></th>\n",
       "      <th></th>\n",
       "      <th></th>\n",
       "    </tr>\n",
       "  </thead>\n",
       "  <tbody>\n",
       "    <tr>\n",
       "      <th>E01000002</th>\n",
       "      <td>City of London 001B</td>\n",
       "      <td>30379</td>\n",
       "      <td>10</td>\n",
       "      <td>29901</td>\n",
       "      <td>10</td>\n",
       "      <td>31190</td>\n",
       "      <td>10</td>\n",
       "      <td>32832</td>\n",
       "      <td>10</td>\n",
       "      <td>29705</td>\n",
       "      <td>10</td>\n",
       "      <td>32789</td>\n",
       "      <td>10</td>\n",
       "      <td>11707</td>\n",
       "      <td>4</td>\n",
       "    </tr>\n",
       "    <tr>\n",
       "      <th>E01000003</th>\n",
       "      <td>City of London 001C</td>\n",
       "      <td>14915</td>\n",
       "      <td>5</td>\n",
       "      <td>18510</td>\n",
       "      <td>6</td>\n",
       "      <td>15103</td>\n",
       "      <td>5</td>\n",
       "      <td>26386</td>\n",
       "      <td>9</td>\n",
       "      <td>17600</td>\n",
       "      <td>6</td>\n",
       "      <td>29363</td>\n",
       "      <td>9</td>\n",
       "      <td>2157</td>\n",
       "      <td>1</td>\n",
       "    </tr>\n",
       "    <tr>\n",
       "      <th>E01000005</th>\n",
       "      <td>City of London 001E</td>\n",
       "      <td>8678</td>\n",
       "      <td>3</td>\n",
       "      <td>6029</td>\n",
       "      <td>2</td>\n",
       "      <td>7833</td>\n",
       "      <td>3</td>\n",
       "      <td>12370</td>\n",
       "      <td>4</td>\n",
       "      <td>17907</td>\n",
       "      <td>6</td>\n",
       "      <td>31059</td>\n",
       "      <td>10</td>\n",
       "      <td>2217</td>\n",
       "      <td>1</td>\n",
       "    </tr>\n",
       "    <tr>\n",
       "      <th>E01000006</th>\n",
       "      <td>Barking and Dagenham 016A</td>\n",
       "      <td>14486</td>\n",
       "      <td>5</td>\n",
       "      <td>14023</td>\n",
       "      <td>5</td>\n",
       "      <td>21692</td>\n",
       "      <td>7</td>\n",
       "      <td>17511</td>\n",
       "      <td>6</td>\n",
       "      <td>21581</td>\n",
       "      <td>7</td>\n",
       "      <td>18848</td>\n",
       "      <td>6</td>\n",
       "      <td>1033</td>\n",
       "      <td>1</td>\n",
       "    </tr>\n",
       "    <tr>\n",
       "      <th>E01000007</th>\n",
       "      <td>Barking and Dagenham 015A</td>\n",
       "      <td>7256</td>\n",
       "      <td>3</td>\n",
       "      <td>6261</td>\n",
       "      <td>2</td>\n",
       "      <td>11487</td>\n",
       "      <td>4</td>\n",
       "      <td>20536</td>\n",
       "      <td>7</td>\n",
       "      <td>16414</td>\n",
       "      <td>5</td>\n",
       "      <td>4925</td>\n",
       "      <td>2</td>\n",
       "      <td>274</td>\n",
       "      <td>1</td>\n",
       "    </tr>\n",
       "  </tbody>\n",
       "</table>\n",
       "</div>"
      ],
      "text/plain": [
       "                        IMD_LSOAName  IMD_IMD  IMD_IMDDecile  IMD_Inc  \\\n",
       "LSOA                                                                    \n",
       "E01000002        City of London 001B    30379             10    29901   \n",
       "E01000003        City of London 001C    14915              5    18510   \n",
       "E01000005        City of London 001E     8678              3     6029   \n",
       "E01000006  Barking and Dagenham 016A    14486              5    14023   \n",
       "E01000007  Barking and Dagenham 015A     7256              3     6261   \n",
       "\n",
       "           IMD_IncDecile  IMD_Emp  IMD_EmpDecile  IMD_Edu  IMD_EduDecile  \\\n",
       "LSOA                                                                       \n",
       "E01000002             10    31190             10    32832             10   \n",
       "E01000003              6    15103              5    26386              9   \n",
       "E01000005              2     7833              3    12370              4   \n",
       "E01000006              5    21692              7    17511              6   \n",
       "E01000007              2    11487              4    20536              7   \n",
       "\n",
       "           IMD_Crm  IMD_CrmDecile  IMD_HouseBar  IMD_HouseBarDecile  IMD_Env  \\\n",
       "LSOA                                                                           \n",
       "E01000002    29705             10         32789                  10    11707   \n",
       "E01000003    17600              6         29363                   9     2157   \n",
       "E01000005    17907              6         31059                  10     2217   \n",
       "E01000006    21581              7         18848                   6     1033   \n",
       "E01000007    16414              5          4925                   2      274   \n",
       "\n",
       "           IMD_EnvDecile  \n",
       "LSOA                      \n",
       "E01000002              4  \n",
       "E01000003              1  \n",
       "E01000005              1  \n",
       "E01000006              1  \n",
       "E01000007              1  "
      ]
     },
     "execution_count": 2,
     "metadata": {},
     "output_type": "execute_result"
    }
   ],
   "source": [
    "def load_imd_data():\n",
    "    df = pd.read_excel('./data/input/File_2_-_IoD2019_Domains_of_Deprivation.xlsx', header=1, sheet_name=1)\n",
    "\n",
    "    # Only keep the columns we need\n",
    "    df = df.iloc[:, [0, 1, 4, 5, 6, 7, 8, 9, 10, 11, 12, 13, 14, 15, 16, 17]]\n",
    "    df.columns = ['LSOA', 'LSOAName', 'IMD', 'IMDDecile', 'Inc', 'IncDecile', 'Emp', 'EmpDecile', 'Edu', 'EduDecile', 'Crm', 'CrmDecile', 'HouseBar', 'HouseBarDecile', 'Env', 'EnvDecile']\n",
    "\n",
    "    df.set_index('LSOA', inplace=True)\n",
    "    df = df.add_prefix('IMD_')\n",
    "    return df\n",
    "\n",
    "df = load_imd_data()\n",
    "df.head()"
   ]
  },
  {
   "cell_type": "code",
   "execution_count": 3,
   "metadata": {},
   "outputs": [
    {
     "name": "stdout",
     "output_type": "stream",
     "text": [
      "Loading saved data from ./data/saved/1_ppd_epc_data.parquet...\n"
     ]
    }
   ],
   "source": [
    "from modules.utils import load_saved_data\n",
    "\n",
    "ppd_df = load_saved_data('1_ppd_epc_data')"
   ]
  },
  {
   "cell_type": "code",
   "execution_count": 4,
   "metadata": {},
   "outputs": [],
   "source": [
    "def enrich_with_imd_data(ppd_df, imd_df):\n",
    "    ppd_df = ppd_df.reset_index()[['PPD_ID', 'ONSUD_LSOA']]\n",
    "\n",
    "    ppd_df = ppd_df.merge(imd_df, how='left', left_on='ONSUD_LSOA', right_index=True)\n",
    "    ppd_df.drop(columns=['ONSUD_LSOA'], inplace=True) \n",
    "    ppd_df.set_index('PPD_ID', inplace=True)\n",
    "\n",
    "    return ppd_df\n",
    "\n",
    "enriched_ppd_df = enrich_with_imd_data(ppd_df, df)"
   ]
  },
  {
   "cell_type": "code",
   "execution_count": 5,
   "metadata": {},
   "outputs": [
    {
     "name": "stdout",
     "output_type": "stream",
     "text": [
      "Saving data to ./data/saved/6_ppd_imd_data.parquet...\n"
     ]
    }
   ],
   "source": [
    "from modules.utils import save_data\n",
    "\n",
    "# Save it for later\n",
    "save_data(enriched_ppd_df, '6_ppd_imd_data')"
   ]
  },
  {
   "cell_type": "code",
   "execution_count": 6,
   "metadata": {},
   "outputs": [
    {
     "data": {
      "text/plain": [
       "count            348910.0\n",
       "mean     7.05891490642286\n",
       "std     2.293903585135633\n",
       "min                   1.0\n",
       "25%                   5.0\n",
       "50%                   7.0\n",
       "75%                   9.0\n",
       "max                  10.0\n",
       "Name: IMD_CrmDecile, dtype: float64"
      ]
     },
     "execution_count": 6,
     "metadata": {},
     "output_type": "execute_result"
    }
   ],
   "source": [
    "# enriched_ppd_df.info()\n",
    "\n",
    "enriched_ppd_df['IMD_CrmDecile'].describe()"
   ]
  }
 ],
 "metadata": {
  "kernelspec": {
   "display_name": "data-playground",
   "language": "python",
   "name": "python3"
  },
  "language_info": {
   "codemirror_mode": {
    "name": "ipython",
    "version": 3
   },
   "file_extension": ".py",
   "mimetype": "text/x-python",
   "name": "python",
   "nbconvert_exporter": "python",
   "pygments_lexer": "ipython3",
   "version": "3.9.18"
  },
  "orig_nbformat": 4
 },
 "nbformat": 4,
 "nbformat_minor": 2
}
